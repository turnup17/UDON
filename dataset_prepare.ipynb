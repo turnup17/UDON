{
 "cells": [
  {
   "cell_type": "code",
   "execution_count": null,
   "metadata": {},
   "outputs": [],
   "source": [
    "!pip install icrawler\n",
    "import os\n",
    "from icrawler.builtin import GoogleImageCrawler\n",
    "\n",
    "ingredients = ['onion', 'carrot', 'potato', 'pork', 'eggplant', 'green_pepper']\n",
    "\n",
    "keywords = ['玉ねぎ 袋', 'にんじん 袋', 'きゅうり 袋', 'じゃがいも 袋', 'ピーマン 袋']\n",
    "dir_names = ['onion_bag', 'carrot_bag', 'cucumber_bag', 'potato_bag', 'green_pepper_bag']\n",
    "\n",
    "# ダウンロードディレクトリを作成\n",
    "for dir_name in dir_names:\n",
    "    os.makedirs('./image/' + dir_name, exist_ok=True)\n",
    "\n",
    "for i in range(len(keywords)):\n",
    "    google_crawler = GoogleImageCrawler(\n",
    "        storage={'root_dir': './image/' + dir_names[i]},\n",
    "        downloader_threads=4,  # ダウンロードスレッドの数\n",
    "        parser_threads=4,     # パーススレッドの数\n",
    "    )\n",
    "    google_crawler.crawl(keyword=keywords[i], max_num=100)  # ここで画像の数を指定します\n"
   ]
  },
  {
   "cell_type": "code",
   "execution_count": null,
   "metadata": {},
   "outputs": [],
   "source": [
    "!pip install icrawler\n",
    "import os\n",
    "from icrawler.builtin import BingImageCrawler\n",
    "\n",
    "keywords = ['玉ねぎ 袋', 'にんじん 袋', 'きゅうり 袋', 'じゃがいも 袋', 'ピーマン 袋']\n",
    "dir_names = ['onion_bag', 'carrot_bag', 'cucumber_bag', 'potato_bag', 'green_pepper_bag']\n",
    "\n",
    "# ダウンロードディレクトリを作成\n",
    "for dir_name in dir_names:\n",
    "    os.makedirs('./image_bing/' + dir_name, exist_ok=True)\n",
    "\n",
    "for i in range(len(keywords)):\n",
    "    bing_crawler = BingImageCrawler(\n",
    "        storage={'root_dir': './image_bing/' + dir_names[i]},\n",
    "        downloader_threads=4,  # ダウンロードスレッドの数\n",
    "        parser_threads=4,     # パーススレッドの数\n",
    "    )\n",
    "    bing_crawler.crawl(keyword=keywords[i], max_num=100)  # ここで画像の数を指定します\n"
   ]
  },
  {
   "cell_type": "markdown",
   "metadata": {},
   "source": [
    "泥臭いけど手作業で画像を厳選する. 厳選した画像は'./selected_images'に格納する. "
   ]
  },
  {
   "cell_type": "code",
   "execution_count": null,
   "metadata": {},
   "outputs": [],
   "source": [
    "import os\n",
    "\n",
    "source_dir = './selected_images'  # 画像の元のディレクトリ\n",
    "\n",
    "selected_dir = ['carrot', 'cucumber', 'green_pepper', 'onion', 'potato']\n",
    "\n",
    "# 各ディレクトリ内の画像ファイルの名前を番号で振りなおす\n",
    "for dir_name in selected_dir:\n",
    "    source_subdir = os.path.join(source_dir, dir_name)\n",
    "    \n",
    "    # サブディレクトリ内の画像ファイル一覧を取得\n",
    "    image_files = [f for f in os.listdir(source_subdir) if os.path.isfile(os.path.join(source_subdir, f))]\n",
    "    \n",
    "    # 画像ファイルに番号を振りなおして名前を変更\n",
    "    for i, filename in enumerate(image_files, start=1):\n",
    "        file_ext = os.path.splitext(filename)[1]  # ファイルの拡張子を取得\n",
    "        new_filename = f\"{i:04d}{file_ext}\"  # 4桁の番号で新しい名前を作成\n",
    "        source_file_path = os.path.join(source_subdir, filename)\n",
    "        new_file_path = os.path.join(source_subdir, new_filename)\n",
    "        \n",
    "        # ファイル名を変更\n",
    "        os.rename(source_file_path, new_file_path)\n",
    "        print(f\"Rename: {filename} -> {new_filename}\")\n",
    "\n",
    "print(\"ファイル名の変更が完了しました。\")"
   ]
  },
  {
   "cell_type": "code",
   "execution_count": null,
   "metadata": {},
   "outputs": [],
   "source": [
    "!pip install opencv-python\n",
    "import os\n",
    "import cv2\n",
    "\n",
    "# ディレクトリのパス\n",
    "source_dir = './selected_images'  # 画像の元のディレクトリ\n",
    "output_dir = './squared_images'  # 正方形に整形した画像の保存先ディレクトリ\n",
    "\n",
    "selected_dir = ['carrot', 'cucumber', 'green_pepper', 'onion', 'potato']\n",
    "\n",
    "# 保存先ディレクトリが存在しない場合は作成\n",
    "os.makedirs(output_dir, exist_ok=True)\n",
    "\n",
    "# 各ディレクトリ内の画像を正方形に整形して保存\n",
    "for dir_name in selected_dir:\n",
    "    source_subdir = os.path.join(source_dir, dir_name)\n",
    "    output_subdir = os.path.join(output_dir, dir_name)\n",
    "    os.makedirs(output_subdir, exist_ok=True)\n",
    "\n",
    "    for filename in os.listdir(source_subdir):\n",
    "        img_path = os.path.join(source_subdir, filename)\n",
    "        output_path = os.path.join(output_subdir, filename)\n",
    "\n",
    "        # 画像を読み込む\n",
    "        img = cv2.imread(img_path)\n",
    "\n",
    "        # 画像を正方形に整形\n",
    "        size = max(img.shape[:2])\n",
    "        square_img = cv2.resize(img, (size, size))\n",
    "\n",
    "        # 画像を保存\n",
    "        cv2.imwrite(output_path, square_img)\n",
    "\n",
    "print(\"正方形に整形して保存が完了しました。\")"
   ]
  },
  {
   "cell_type": "markdown",
   "metadata": {},
   "source": [
    "data augmentationはGoogle Colabで実行した. ローカルだと何故か動かなかった. ローカルでsquared_imagesディレクトリをzipに圧縮した後, 以下のコードで一旦Google Colabに移植する. "
   ]
  },
  {
   "cell_type": "code",
   "execution_count": null,
   "metadata": {},
   "outputs": [],
   "source": [
    "from google.colab import files\n",
    "uploaded_folder = files.upload()"
   ]
  },
  {
   "cell_type": "code",
   "execution_count": null,
   "metadata": {},
   "outputs": [],
   "source": [
    "import zipfile\n",
    "import io\n",
    "\n",
    "# アップロードしたzipファイルの名前を指定\n",
    "zip_file_name = \"squared_images.zip\"\n",
    "\n",
    "# zipファイルを解凍\n",
    "with zipfile.ZipFile(zip_file_name, 'r') as zip_ref:\n",
    "    zip_ref.extractall(\"/content/\")  # 解凍先のディレクトリを指定"
   ]
  },
  {
   "cell_type": "code",
   "execution_count": null,
   "metadata": {},
   "outputs": [],
   "source": [
    "import os\n",
    "import numpy as np\n",
    "from keras.preprocessing.image import ImageDataGenerator, load_img, img_to_array\n",
    "\n",
    "# 画像の格納ディレクトリと保存先ディレクトリを指定\n",
    "image_dir = './squared_images/'\n",
    "save_dir = './augmented_images/'\n",
    "\n",
    "# データ拡張の設定\n",
    "datagen = ImageDataGenerator(\n",
    "    rotation_range=40,     # 画像を最大で40度回転\n",
    "    width_shift_range=0.2, # 画像を水平にランダムにシフト\n",
    "    height_shift_range=0.2,# 画像を垂直にランダムにシフト\n",
    "    shear_range=0.2,       # シアー変換を適用\n",
    "    zoom_range=0.2,        # ランダムにズーム\n",
    "    horizontal_flip=True,  # 画像を水平に反転\n",
    "    fill_mode='nearest'    # 境界周りのピクセルを補完\n",
    ")\n",
    "\n",
    "# ディレクトリ内の各キーワードの画像にデータ拡張を適用\n",
    "for keyword in dir_names:\n",
    "    image_subdir = os.path.join(image_dir, keyword)\n",
    "    save_subdir = os.path.join(save_dir, keyword)\n",
    "    os.makedirs(save_subdir, exist_ok=True)\n",
    "\n",
    "    for filename in os.listdir(image_subdir):\n",
    "        img_path = os.path.join(image_subdir, filename)\n",
    "        img = load_img(img_path)\n",
    "        img_array = img_to_array(img)\n",
    "        img_array = img_array.reshape((1,) + img_array.shape)\n",
    "\n",
    "        # データ拡張を適用して新しい画像を生成\n",
    "        i = 0\n",
    "        for batch in datagen.flow(img_array, save_to_dir=save_subdir, save_prefix='aug', save_format='jpeg'):\n",
    "            i += 1\n",
    "            if i >= 5:  # 各元画像から5枚のデータ拡張画像を生成\n",
    "                break"
   ]
  },
  {
   "cell_type": "code",
   "execution_count": 8,
   "metadata": {},
   "outputs": [
    {
     "name": "stdout",
     "output_type": "stream",
     "text": [
      "画像の圧縮が完了しました。\n"
     ]
    }
   ],
   "source": [
    "import os\n",
    "import cv2\n",
    "\n",
    "# データ拡張後の画像が保存されたディレクトリと、圧縮後の画像を保存するディレクトリ\n",
    "augmented_image_dir = './augmented_images/'\n",
    "\n",
    "selected_dir = ['carrot', 'cucumber', 'green_pepper', 'onion', 'potato']\n",
    "\n",
    "# 圧縮後の画像のサイズ\n",
    "target_size = (64, 64)\n",
    "\n",
    "# 圧縮後の画像を保存するディレクトリを作成\n",
    "compressed_image_dir = './64_compressed_images/'\n",
    "os.makedirs(compressed_image_dir, exist_ok=True)\n",
    "\n",
    "# ディレクトリ内の各キーワードの画像を読み込んで圧縮\n",
    "for keyword in selected_dir:\n",
    "    augmented_subdir = os.path.join(augmented_image_dir, keyword)\n",
    "    compressed_subdir = os.path.join(compressed_image_dir, keyword)\n",
    "    os.makedirs(compressed_subdir, exist_ok=True)\n",
    "\n",
    "    for filename in os.listdir(augmented_subdir):\n",
    "        img_path = os.path.join(augmented_subdir, filename)\n",
    "        img = cv2.imread(img_path)\n",
    "\n",
    "        # 画像を指定のサイズにリサイズ\n",
    "        compressed_img = cv2.resize(img, target_size)\n",
    "\n",
    "        # 圧縮後の画像を保存\n",
    "        compressed_path = os.path.join(compressed_subdir, filename)\n",
    "        cv2.imwrite(compressed_path, compressed_img)\n",
    "\n",
    "print(\"画像の圧縮が完了しました。\")\n"
   ]
  },
  {
   "cell_type": "code",
   "execution_count": 10,
   "metadata": {},
   "outputs": [
    {
     "name": "stdout",
     "output_type": "stream",
     "text": [
      "画像の振り分けとCSVファイルの作成が完了しました。\n"
     ]
    }
   ],
   "source": [
    "import os\n",
    "import random\n",
    "import shutil\n",
    "import csv\n",
    "\n",
    "selected_dir = ['carrot', 'cucumber', 'green_pepper', 'onion', 'potato']\n",
    "\n",
    "# ディレクトリのパス\n",
    "source_dir = '/Users/hiro/Desktop/Sony_hackathon/main/64_compressed_images'\n",
    "train_dir = '/Users/hiro/Desktop/Sony_hackathon/main/64_train/'\n",
    "test_dir = '/Users/hiro/Desktop/Sony_hackathon/main/64_test/'\n",
    "train_csv_filename = '/Users/hiro/Desktop/Sony_hackathon/main/64_train_labels.csv'  # トレーニング用CSVファイルの保存先\n",
    "test_csv_filename = '/Users/hiro/Desktop/Sony_hackathon/main/64_test_labels.csv'    # テスト用CSVファイルの保存先\n",
    "\n",
    "os.makedirs(train_dir, exist_ok=True)\n",
    "os.makedirs(test_dir, exist_ok=True)\n",
    "\n",
    "# トレーニングセットとテストセットの比率\n",
    "train_ratio = 0.8  # 80%をトレーニングセットとする\n",
    "\n",
    "# トレーニング用とテスト用のCSVファイルのヘッダを設定\n",
    "with open(train_csv_filename, mode='w', newline='') as train_csv_file:\n",
    "    train_csv_writer = csv.writer(train_csv_file)\n",
    "    train_csv_writer.writerow(['x', 'y'])  # ヘッダ行\n",
    "\n",
    "with open(test_csv_filename, mode='w', newline='') as test_csv_file:\n",
    "    test_csv_writer = csv.writer(test_csv_file)\n",
    "    test_csv_writer.writerow(['x', 'y'])  # ヘッダ行\n",
    "\n",
    "# 各ディレクトリ内の画像ファイルを読み込み、ランダムにシャッフル\n",
    "for keyword_idx, keyword in enumerate(selected_dir):\n",
    "    keyword_source_dir = os.path.join(source_dir, keyword)\n",
    "\n",
    "    image_files = os.listdir(keyword_source_dir)\n",
    "    random.shuffle(image_files)\n",
    "\n",
    "    num_train = int(len(image_files) * train_ratio)\n",
    "\n",
    "    for i, image_file in enumerate(image_files):\n",
    "        src_path = os.path.join(keyword_source_dir, image_file)\n",
    "        if i < num_train:\n",
    "            dst_dir = train_dir\n",
    "            csv_filename = train_csv_filename\n",
    "        else:\n",
    "            dst_dir = test_dir\n",
    "            csv_filename = test_csv_filename\n",
    "        dst_path = os.path.join(dst_dir, image_file)\n",
    "\n",
    "        # 画像ファイルをコピー\n",
    "        shutil.copy(src_path, dst_path)\n",
    "\n",
    "        # CSVファイルにパスとラベルを追加\n",
    "        with open(csv_filename, mode='a', newline='') as csv_file:\n",
    "            csv_writer = csv.writer(csv_file)\n",
    "            csv_writer.writerow([dst_path, keyword_idx])\n",
    "\n",
    "print(\"画像の振り分けとCSVファイルの作成が完了しました。\")\n"
   ]
  },
  {
   "cell_type": "markdown",
   "metadata": {},
   "source": [
    "ここでは, NNCにアップロードするためにcsvファイルも一緒に生成してる. "
   ]
  }
 ],
 "metadata": {
  "interpreter": {
   "hash": "8d2ce68a16fddd21c9325db96c4ae8e66cef2fae74cfc97f7c7d82197155da61"
  },
  "kernelspec": {
   "display_name": "Python 3.10.9 ('base')",
   "language": "python",
   "name": "python3"
  },
  "language_info": {
   "codemirror_mode": {
    "name": "ipython",
    "version": 3
   },
   "file_extension": ".py",
   "mimetype": "text/x-python",
   "name": "python",
   "nbconvert_exporter": "python",
   "pygments_lexer": "ipython3",
   "version": "3.10.9"
  },
  "orig_nbformat": 4
 },
 "nbformat": 4,
 "nbformat_minor": 2
}
